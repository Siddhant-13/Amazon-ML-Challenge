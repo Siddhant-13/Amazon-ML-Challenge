{
 "cells": [
  {
   "cell_type": "markdown",
   "metadata": {},
   "source": [
    "## Clean"
   ]
  },
  {
   "cell_type": "code",
   "execution_count": 33,
   "metadata": {},
   "outputs": [],
   "source": [
    "import pandas as pd\n",
    "\n",
    "\n",
    "for i in [\"train.csv\", \"test.csv\", \"sample_test.csv\"]:\n",
    "    df = pd.read_csv(\"../dataset/\" + i)\n",
    "    df[\"image_link\"] = df[\"image_link\"].str.rstrip(\"/\")\n",
    "    df[\"image_link\"] = df[\"image_link\"].apply(lambda x: x + \".jpg\" if x[-4:] != \".jpg\" else x)\n",
    "    df.to_csv(\"dataset/\" + i, index=False)"
   ]
  },
  {
   "cell_type": "markdown",
   "metadata": {},
   "source": [
    "## Download"
   ]
  },
  {
   "cell_type": "code",
   "execution_count": 34,
   "metadata": {},
   "outputs": [],
   "source": [
    "import pandas as pd\n",
    "import os\n",
    "import requests\n",
    "from concurrent.futures import ThreadPoolExecutor\n",
    "from PIL import Image\n",
    "from io import BytesIO\n",
    "\n",
    "df = pd.read_csv('../dataset/train.csv')\n",
    "\n",
    "count = {'height': 0, 'width': 0, 'depth': 0, 'item_volume': 0, 'item_weight': 0, 'maximum_weight_recommendation': 0, 'wattage': 0, 'voltage': 0}\n",
    "required = {'height': 100, 'width': 100, 'depth': 100, 'item_volume': 300, 'item_weight': 150, 'maximum_weight_recommendation': 150, 'wattage': 300, 'voltage': 300}\n",
    "append = []\n",
    "for i, row in df.iterrows():\n",
    "    if count[row['entity_name']] < required[row['entity_name']]:\n",
    "        count[row['entity_name']] += 1\n",
    "        append.append(row)\n",
    "\n",
    "df = pd.DataFrame(append)"
   ]
  },
  {
   "cell_type": "code",
   "execution_count": 37,
   "metadata": {},
   "outputs": [
    {
     "name": "stdout",
     "output_type": "stream",
     "text": [
      "Skipped image: https://m.media-amazon.com/images/I/1yw53vfQtS.jpg with error: cannot identify image file <_io.BytesIO object at 0x0000014923674B30>\n",
      "Skipped image: https://m.media-amazon.com/images/I/41NH8WgeBOL.jpg with error: image file is truncated (2 bytes not processed)\n"
     ]
    }
   ],
   "source": [
    "def download(url):\n",
    "    filename = url.split('/')[-1]\n",
    "    filepath = os.path.join('../images', filename)\n",
    "    if not os.path.exists(filepath):\n",
    "        try:\n",
    "            response = requests.get(url)\n",
    "            image = Image.open(BytesIO(response.content))\n",
    "            image.thumbnail((1080, 1080), Image.LANCZOS)\n",
    "            new_image = Image.new(\"RGB\", (1080, 1080), \"white\")\n",
    "            new_image.paste(image, ((new_image.width - image.width) // 2, (new_image.height - image.height) // 2))\n",
    "            new_image.save(filepath)\n",
    "        except Exception as e:\n",
    "            print(f\"Skipped image: {url} with error: {e}\")\n",
    "    return filepath\n",
    "\n",
    "os.makedirs('../images', exist_ok=True)\n",
    "\n",
    "with ThreadPoolExecutor(max_workers=10) as executor:\n",
    "    image_paths = list(executor.map(download, df['image_link']))"
   ]
  }
 ],
 "metadata": {
  "kernelspec": {
   "display_name": "Python 3",
   "language": "python",
   "name": "python3"
  },
  "language_info": {
   "codemirror_mode": {
    "name": "ipython",
    "version": 3
   },
   "file_extension": ".py",
   "mimetype": "text/x-python",
   "name": "python",
   "nbconvert_exporter": "python",
   "pygments_lexer": "ipython3",
   "version": "3.12.4"
  }
 },
 "nbformat": 4,
 "nbformat_minor": 2
}
